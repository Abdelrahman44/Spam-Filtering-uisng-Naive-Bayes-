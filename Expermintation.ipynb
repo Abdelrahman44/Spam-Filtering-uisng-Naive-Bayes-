{
 "cells": [
  {
   "cell_type": "code",
   "execution_count": 1,
   "id": "dc8fc983",
   "metadata": {},
   "outputs": [],
   "source": [
    "import pandas as pd\n",
    "import numpy as np\n",
    "from sklearn.model_selection import train_test_split\n",
    "from sklearn import metrics\n",
    "import nltk\n",
    "from itertools import chain\n",
    "from collections import Counter\n",
    "import matplotlib "
   ]
  },
  {
   "cell_type": "code",
   "execution_count": 2,
   "id": "06608f1a",
   "metadata": {},
   "outputs": [
    {
     "name": "stderr",
     "output_type": "stream",
     "text": [
      "[nltk_data] Downloading package stopwords to /root/nltk_data...\n",
      "[nltk_data]   Package stopwords is already up-to-date!\n",
      "[nltk_data] Downloading package punkt to /root/nltk_data...\n",
      "[nltk_data]   Package punkt is already up-to-date!\n",
      "[nltk_data] Downloading package wordnet to /root/nltk_data...\n",
      "[nltk_data]   Package wordnet is already up-to-date!\n"
     ]
    },
    {
     "data": {
      "text/plain": [
       "True"
      ]
     },
     "execution_count": 2,
     "metadata": {},
     "output_type": "execute_result"
    }
   ],
   "source": [
    "# download english stopwords and punctuation marks:\n",
    "nltk.download('stopwords')\n",
    "stop_words = nltk.corpus.stopwords.words('english')\n",
    "nltk.download('punkt')\n",
    "nltk.download('wordnet')"
   ]
  },
  {
   "cell_type": "markdown",
   "id": "a8e4e047-30de-4832-aa6c-d3c96f6a2bfc",
   "metadata": {},
   "source": [
    "# 1. Defining helper functions"
   ]
  },
  {
   "cell_type": "markdown",
   "id": "8f6231b1-a581-4a2c-a21c-6c129a294a63",
   "metadata": {},
   "source": [
    "### 1.1 pre-processing functions and pipeline"
   ]
  },
  {
   "cell_type": "code",
   "execution_count": 3,
   "id": "b42086c5-207d-44ed-96b5-c74cd8820ba3",
   "metadata": {},
   "outputs": [],
   "source": [
    "## pre-processing functions for single text\n",
    "def lower(sentence):\n",
    "    s = str(sentence)\n",
    "    return s.lower()\n",
    "\n",
    "def remove_subject(sentence):\n",
    "    sentence = sentence[1:]\n",
    "    return sentence\n",
    "\n",
    "def tokenize(sentence): \n",
    "    return nltk.word_tokenize(sentence)\n",
    "\n",
    "def remove_stop_words(sentence):\n",
    "    stop_words = nltk.corpus.stopwords.words('english')\n",
    "    return tuple(item for item in sentence if item not in stop_words and item.isalnum())\n",
    "\n",
    "\n",
    "def stem(sentence):\n",
    "    stemmer = nltk.stem.SnowballStemmer('english')\n",
    "    words = [stemmer.stem(word) for word in sentence]\n",
    "    return words\n",
    "\n",
    "def preprocess_sentence(sentence, func1=lower, func2=remove_subject, func3=tokenize, func4=remove_stop_words, func5=stem): #full pre-prcessing pipeline\n",
    "    return func5(func4(func3(func2(func1(sentence)))))\n",
    "\n",
    "\n",
    "## pre-processing functions for list of texts\n",
    "def lower_list(sentence_list):\n",
    "    sentence_list=sentence_list.str.lower()\n",
    "    return sentence_list\n",
    "\n",
    "def tokenize_list(sentence_list): \n",
    "    sentence_list = list(map(nltk.word_tokenize, sentence_list))\n",
    "    return sentence_list\n",
    "\n",
    "def remove_subject_list(sentence_list):\n",
    "    sentence_list = list(map(lambda x: x[1:], sentence_list))\n",
    "    return sentence_list\n",
    "\n",
    "\n",
    "def remove_stop_words_list(sentence_list):\n",
    "    stop_words = nltk.corpus.stopwords.words('english')\n",
    "    sentence_list = list(map(lambda x: tuple(item for item in x if item not in stop_words and item.isalpha()), sentence_list))\n",
    "    return sentence_list\n",
    "\n",
    "def stem_list(sentence_list):   # stemming & lemmatizing\n",
    "    stemmer = nltk.stem.SnowballStemmer('english')\n",
    "    #stemmer = nltk.stem.PorterStemmer()\n",
    "    #stemmer = nltk.stem.LancasterStemmer()\n",
    "    \n",
    "    all_words = []\n",
    "    for sentence in sentence_list:\n",
    "        words_list = []\n",
    "        for word in sentence:\n",
    "            words_list.append(stemmer.stem(word))\n",
    "            \n",
    "        all_words.append(tuple(words_list))\n",
    "        \n",
    "    return all_words\n",
    "\n",
    "\n",
    "def preprocess_sentence_list(sentence, func1=lower_list, func2=tokenize_list, \n",
    "                             func3=remove_subject_list, func4=remove_stop_words_list, func5=stem_list): #full pre-processing pipeline\n",
    "    return func4(func3(func2(func1(sentence))))"
   ]
  },
  {
   "cell_type": "markdown",
   "id": "758d4948-c4d9-4a06-a422-5484dca4efed",
   "metadata": {},
   "source": [
    "### 1.2 Naive Bayes functions"
   ]
  },
  {
   "cell_type": "code",
   "execution_count": 5,
   "id": "79e84e96-f565-4f4d-b633-5ad467065e8a",
   "metadata": {},
   "outputs": [],
   "source": [
    "# NB with Laplacian smoothing\n",
    "\n",
    "def classes_probability(data):\n",
    "    P_spam = (data.value_counts()[1]+1)/(sum(data.value_counts()) + len(data.value_counts()))\n",
    "    P_ham = (data.value_counts()[0]+1)/(sum(data.value_counts()) + len(data.value_counts()))\n",
    "    return (P_spam, P_ham)\n",
    "\n",
    "def words_probability_per_class(train):\n",
    "    # make a dictionary of unique words and the probability of each word\n",
    "    freqs = nltk.FreqDist(word for sentence in train['text'] for word in sentence) #frequency of each word\n",
    "    num_unique_words = freqs.N()\n",
    "    num_total_words = sum(len(x) for x in train['text'])\n",
    "    words_dict= dict(freqs.items())\n",
    "    #words_dict = {k: v/total_words for k, v in words_dict.items()} # probability of each word p(word)\n",
    "    \n",
    "    train_spam = train[train['spam']==1] # filter spam samples\n",
    "    train_spam.reset_index(inplace=True) \n",
    "    train_spam.drop(columns=['index'], inplace=True)\n",
    "\n",
    "    train_ham = train[train['spam']==0] # filter ham samples\n",
    "    train_ham.reset_index(inplace=True) \n",
    "    train_ham.drop(columns=['index'], inplace=True)\n",
    "    \n",
    "    \n",
    "    \n",
    "    ## dictionary of P(w|C) for word in each class\n",
    "    # frequency of each word in each class\n",
    "    spam_freq = nltk.FreqDist(word for i in range(len(train_spam[\"text\"])) for word in train_spam[\"text\"][i]) \n",
    "    ham_freq = nltk.FreqDist(word for i in range(len(train_ham[\"text\"])) for word in train_ham[\"text\"][i]) \n",
    "\n",
    "    spam_words_dict=dict(spam_freq.items())\n",
    "    ham_words_dict=dict(ham_freq.items())\n",
    "    \n",
    "    num_total_spam_words = sum(len(x) for x in train_spam['text'])\n",
    "    num_total_ham_words = sum(len(x) for x in train_ham['text'])\n",
    "    \n",
    "\n",
    "    # laplacian-smoothed P(W|C)\n",
    "    spam_words_dict = {k: (v+1)/(num_total_spam_words+num_unique_words) for k, v in spam_words_dict.items()}\n",
    "    spam_words_dict['num_total_spam_words'] = num_total_spam_words\n",
    "    ham_words_dict = {k: (v+1)/(num_total_ham_words+num_unique_words) for k, v in ham_words_dict.items()}\n",
    "    ham_words_dict['num_total_ham_words'] = num_total_ham_words\n",
    "\n",
    "    \n",
    "    \n",
    "    return (spam_words_dict, ham_words_dict, num_unique_words)\n",
    "\n",
    "\n",
    "def determine_spam(words, num_unique_words, spam_words_dict, ham_words_dict, P_spam, P_ham):\n",
    "    if(type(words)==list or type(words)==pd.core.series.Series):\n",
    "        return determine_spam_dict(words, num_unique_words, spam_words_dict, ham_words_dict, P_spam, P_ham) \n",
    "    else:\n",
    "        return determine_spam_single(words, num_unique_words, spam_words_dict, ham_words_dict, P_spam, P_ham)\n",
    "    \n",
    "def determine_spam_dict(sentence_dict, num_unique_words, spam_words_dict, ham_words_dict, P_spam, P_ham):\n",
    "    results = []\n",
    "    for sentence in sentence_dict:\n",
    "        # get P(w|spam) for each word, for words in the training set\n",
    "        lis_spam_probs = [spam_words_dict[word] if word in spam_words_dict \n",
    "                          else 1/(spam_words_dict['num_total_spam_words']+num_unique_words) for word in sentence] \n",
    "        # get P(w|spam) for each word, for words not in the taining set\n",
    "        lis_ham_probs = [ham_words_dict[word] if word in ham_words_dict \n",
    "                         else 1/(ham_words_dict['num_total_ham_words']+num_unique_words) for word in sentence] \n",
    "        \n",
    "        p1 = P_spam * np.prod(lis_spam_probs)\n",
    "        p2 = P_ham * np.prod(lis_ham_probs)\n",
    "        \n",
    "        if (p1 > p2):\n",
    "            results.append(1)\n",
    "                \n",
    "        else:\n",
    "            results.append(0)\n",
    "        \n",
    "    return results\n",
    "\n",
    "\n",
    "def determine_spam_single(words, words_dict, spam_words_dict, ham_words_dict, P_spam, P_ham):\n",
    "    lis_spam_probs = [spam_words_dict[word] if word in spam_words_dict \n",
    "                          else 1/(spam_words_dict['num_total_spam_words']+num_unique_words) for word in words] \n",
    "    lis_ham_probs = [ham_words_dict[word] if word in ham_words_dict \n",
    "                         else 1/(ham_words_dict['num_total_ham_words']+num_unique_words) for word in sentence]\n",
    "    p1 = P_spam * np.prod(lis_spam_probs)\n",
    "    p2 = P_ham * np.prod(lis_ham_probs)\n",
    "\n",
    "    if (p1 > p2):\n",
    "        print('spam')\n",
    "    else:\n",
    "        print('ham')\n",
    "    \n"
   ]
  },
  {
   "cell_type": "markdown",
   "id": "09dd3dc7-41a3-4b28-8c9e-9318e591725a",
   "metadata": {},
   "source": [
    "# 2. Workin on development data"
   ]
  },
  {
   "cell_type": "markdown",
   "id": "1fe5c2ef-0ec8-4871-a6f1-5ca389c15cc0",
   "metadata": {},
   "source": [
    "## 2.1 Data split and pre-processing"
   ]
  },
  {
   "cell_type": "code",
   "execution_count": 6,
   "id": "695bc88f",
   "metadata": {},
   "outputs": [],
   "source": [
    "all_data = pd.read_csv(\"/workspace/new_src/dataset/emails.csv\")"
   ]
  },
  {
   "cell_type": "code",
   "execution_count": 7,
   "id": "e8441999",
   "metadata": {},
   "outputs": [
    {
     "data": {
      "text/html": [
       "<div>\n",
       "<style scoped>\n",
       "    .dataframe tbody tr th:only-of-type {\n",
       "        vertical-align: middle;\n",
       "    }\n",
       "\n",
       "    .dataframe tbody tr th {\n",
       "        vertical-align: top;\n",
       "    }\n",
       "\n",
       "    .dataframe thead th {\n",
       "        text-align: right;\n",
       "    }\n",
       "</style>\n",
       "<table border=\"1\" class=\"dataframe\">\n",
       "  <thead>\n",
       "    <tr style=\"text-align: right;\">\n",
       "      <th></th>\n",
       "      <th>text</th>\n",
       "      <th>spam</th>\n",
       "    </tr>\n",
       "  </thead>\n",
       "  <tbody>\n",
       "    <tr>\n",
       "      <th>0</th>\n",
       "      <td>Subject: naturally irresistible your corporate...</td>\n",
       "      <td>1</td>\n",
       "    </tr>\n",
       "    <tr>\n",
       "      <th>1</th>\n",
       "      <td>Subject: the stock trading gunslinger  fanny i...</td>\n",
       "      <td>1</td>\n",
       "    </tr>\n",
       "    <tr>\n",
       "      <th>2</th>\n",
       "      <td>Subject: unbelievable new homes made easy  im ...</td>\n",
       "      <td>1</td>\n",
       "    </tr>\n",
       "    <tr>\n",
       "      <th>3</th>\n",
       "      <td>Subject: 4 color printing special  request add...</td>\n",
       "      <td>1</td>\n",
       "    </tr>\n",
       "    <tr>\n",
       "      <th>4</th>\n",
       "      <td>Subject: do not have money , get software cds ...</td>\n",
       "      <td>1</td>\n",
       "    </tr>\n",
       "  </tbody>\n",
       "</table>\n",
       "</div>"
      ],
      "text/plain": [
       "                                                text  spam\n",
       "0  Subject: naturally irresistible your corporate...     1\n",
       "1  Subject: the stock trading gunslinger  fanny i...     1\n",
       "2  Subject: unbelievable new homes made easy  im ...     1\n",
       "3  Subject: 4 color printing special  request add...     1\n",
       "4  Subject: do not have money , get software cds ...     1"
      ]
     },
     "execution_count": 7,
     "metadata": {},
     "output_type": "execute_result"
    }
   ],
   "source": [
    "all_data.head(5)"
   ]
  },
  {
   "cell_type": "code",
   "execution_count": 8,
   "id": "49d819ea-1d61-4d1a-a0ab-3ad617bb9565",
   "metadata": {},
   "outputs": [],
   "source": [
    "# split data to train and test sets\n",
    "train, test = train_test_split(all_data, test_size=0.3, random_state=42, shuffle=True)\n",
    "train.to_csv(\"/workspace/new_src/dataset/train.csv\", index=False)\n",
    "test.to_csv(\"/workspace/new_src/dataset/test.csv\", index=False)"
   ]
  },
  {
   "cell_type": "code",
   "execution_count": 9,
   "id": "d221e805",
   "metadata": {},
   "outputs": [],
   "source": [
    "train_df = train.copy()"
   ]
  },
  {
   "cell_type": "code",
   "execution_count": 10,
   "id": "f8ef9191",
   "metadata": {},
   "outputs": [],
   "source": [
    "preprocessed_tokens = preprocess_sentence_list(train_df['text'])"
   ]
  },
  {
   "cell_type": "code",
   "execution_count": 11,
   "id": "cd9fe752",
   "metadata": {},
   "outputs": [
    {
     "data": {
      "text/html": [
       "<div>\n",
       "<style scoped>\n",
       "    .dataframe tbody tr th:only-of-type {\n",
       "        vertical-align: middle;\n",
       "    }\n",
       "\n",
       "    .dataframe tbody tr th {\n",
       "        vertical-align: top;\n",
       "    }\n",
       "\n",
       "    .dataframe thead th {\n",
       "        text-align: right;\n",
       "    }\n",
       "</style>\n",
       "<table border=\"1\" class=\"dataframe\">\n",
       "  <thead>\n",
       "    <tr style=\"text-align: right;\">\n",
       "      <th></th>\n",
       "      <th>text</th>\n",
       "      <th>spam</th>\n",
       "    </tr>\n",
       "  </thead>\n",
       "  <tbody>\n",
       "    <tr>\n",
       "      <th>3931</th>\n",
       "      <td>(volatility, curves, linked, reuters, hi, tany...</td>\n",
       "      <td>0</td>\n",
       "    </tr>\n",
       "    <tr>\n",
       "      <th>4056</th>\n",
       "      <td>(organizational, announcement, fyi, forwarded,...</td>\n",
       "      <td>0</td>\n",
       "    </tr>\n",
       "    <tr>\n",
       "      <th>4546</th>\n",
       "      <td>(lng, meeting, hello, lng, meeting, held, morn...</td>\n",
       "      <td>0</td>\n",
       "    </tr>\n",
       "    <tr>\n",
       "      <th>2471</th>\n",
       "      <td>(fwd, optical, network, engineering, enron, re...</td>\n",
       "      <td>0</td>\n",
       "    </tr>\n",
       "    <tr>\n",
       "      <th>2481</th>\n",
       "      <td>(argentina, modelling, michael, p, thursday, v...</td>\n",
       "      <td>0</td>\n",
       "    </tr>\n",
       "  </tbody>\n",
       "</table>\n",
       "</div>"
      ],
      "text/plain": [
       "                                                   text  spam\n",
       "3931  (volatility, curves, linked, reuters, hi, tany...     0\n",
       "4056  (organizational, announcement, fyi, forwarded,...     0\n",
       "4546  (lng, meeting, hello, lng, meeting, held, morn...     0\n",
       "2471  (fwd, optical, network, engineering, enron, re...     0\n",
       "2481  (argentina, modelling, michael, p, thursday, v...     0"
      ]
     },
     "execution_count": 11,
     "metadata": {},
     "output_type": "execute_result"
    }
   ],
   "source": [
    "train_df[\"text\"] = preprocessed_tokens\n",
    "train_df.head()"
   ]
  },
  {
   "cell_type": "markdown",
   "id": "c9689076",
   "metadata": {},
   "source": [
    "## 2.2 Calculate needed probabilities"
   ]
  },
  {
   "cell_type": "code",
   "execution_count": 12,
   "id": "02d57d29",
   "metadata": {},
   "outputs": [
    {
     "name": "stdout",
     "output_type": "stream",
     "text": [
      "0.23136374968835702 0.768636250311643\n"
     ]
    }
   ],
   "source": [
    "# P(C)\n",
    "(P_spam, P_ham) = classes_probability(train['spam'])\n",
    "print(P_spam, P_ham)"
   ]
  },
  {
   "cell_type": "code",
   "execution_count": null,
   "id": "f2047d37-8e7e-40a8-b14f-fa0e2a280698",
   "metadata": {},
   "outputs": [],
   "source": [
    "# P(W|C)\n",
    "spam_words_dict, ham_words_dict, num_unique_words = words_probability_per_class(train_df)"
   ]
  },
  {
   "cell_type": "markdown",
   "id": "3db94773",
   "metadata": {},
   "source": [
    "## 2.3 Evaluate on development set"
   ]
  },
  {
   "cell_type": "code",
   "execution_count": 15,
   "id": "63fa36b4",
   "metadata": {},
   "outputs": [],
   "source": [
    "list_precitions = determine_spam(train_df['text'], num_unique_words, spam_words_dict, ham_words_dict, \n",
    "                                 P_spam, P_ham)"
   ]
  },
  {
   "cell_type": "code",
   "execution_count": 18,
   "id": "33bd6c27",
   "metadata": {},
   "outputs": [],
   "source": [
    "results = train_df['spam'] == list_precitions # get list where TP+TN is True and FP+FN is False"
   ]
  },
  {
   "cell_type": "code",
   "execution_count": 19,
   "id": "3bbf0494",
   "metadata": {},
   "outputs": [
    {
     "name": "stdout",
     "output_type": "stream",
     "text": [
      "0.8822649039660764 0.8822649039660764\n"
     ]
    }
   ],
   "source": [
    "accuracy1 = results.value_counts()[1]/(results.value_counts()[0]+results.value_counts()[1])\n",
    "accuracy2 = metrics.accuracy_score(train_df['spam'], list_precitions)\n",
    "print(accuracy1, accuracy2)"
   ]
  },
  {
   "cell_type": "code",
   "execution_count": 21,
   "id": "d92c4e81",
   "metadata": {},
   "outputs": [
    {
     "name": "stdout",
     "output_type": "stream",
     "text": [
      "1.0 1.0\n"
     ]
    }
   ],
   "source": [
    "results2 = train['spam'] & list_precitions\n",
    "results2.value_counts()\n",
    "precision1 = results2.value_counts()[1]/(np.sum(list_precitions))\n",
    "precision2 = metrics.precision_score(train_df['spam'], list_precitions)\n",
    "print(precision1, precision2)"
   ]
  },
  {
   "cell_type": "code",
   "execution_count": 25,
   "id": "f4c983d5",
   "metadata": {},
   "outputs": [
    {
     "name": "stdout",
     "output_type": "stream",
     "text": [
      "0.49083063646170444\n"
     ]
    }
   ],
   "source": [
    "recall2 = metrics.recall_score(train['spam'], list_precitions)\n",
    "print(recall2)"
   ]
  },
  {
   "cell_type": "code",
   "execution_count": 29,
   "id": "0727639a",
   "metadata": {},
   "outputs": [
    {
     "name": "stdout",
     "output_type": "stream",
     "text": [
      "0.658465991316932 0.658465991316932\n"
     ]
    }
   ],
   "source": [
    "f1 = 2*(precision1*recall2)/(precision1+recall2)\n",
    "f2 = metrics.f1_score(train['spam'],list_precitions)\n",
    "print(f1, f2)"
   ]
  },
  {
   "cell_type": "code",
   "execution_count": 30,
   "id": "104e08aa",
   "metadata": {},
   "outputs": [
    {
     "data": {
      "text/plain": [
       "<sklearn.metrics._plot.confusion_matrix.ConfusionMatrixDisplay at 0x7f7aa301da00>"
      ]
     },
     "execution_count": 30,
     "metadata": {},
     "output_type": "execute_result"
    },
    {
     "data": {
      "image/png": "[encoded data removed]",
      "text/plain": [
       "<Figure size 432x288 with 2 Axes>"
      ]
     },
     "metadata": {
      "needs_background": "light"
     },
     "output_type": "display_data"
    }
   ],
   "source": [
    "conf_max = metrics.confusion_matrix(train['spam'], list_precitions,labels=[0,1])\n",
    "metrics.ConfusionMatrixDisplay(conf_max, display_labels=[0, 1]).plot()"
   ]
  },
  {
   "cell_type": "markdown",
   "id": "715abacf",
   "metadata": {},
   "source": [
    "# 3. Testing"
   ]
  },
  {
   "cell_type": "markdown",
   "id": "a66ef25a",
   "metadata": {},
   "source": [
    "### Batch emails filtering (test set)"
   ]
  },
  {
   "cell_type": "code",
   "execution_count": 37,
   "id": "5cfbdbf7-3ea6-4e3f-9c62-46e96dd25b4c",
   "metadata": {},
   "outputs": [
    {
     "data": {
      "text/html": [
       "<div>\n",
       "<style scoped>\n",
       "    .dataframe tbody tr th:only-of-type {\n",
       "        vertical-align: middle;\n",
       "    }\n",
       "\n",
       "    .dataframe tbody tr th {\n",
       "        vertical-align: top;\n",
       "    }\n",
       "\n",
       "    .dataframe thead th {\n",
       "        text-align: right;\n",
       "    }\n",
       "</style>\n",
       "<table border=\"1\" class=\"dataframe\">\n",
       "  <thead>\n",
       "    <tr style=\"text-align: right;\">\n",
       "      <th></th>\n",
       "      <th>text</th>\n",
       "      <th>spam</th>\n",
       "    </tr>\n",
       "  </thead>\n",
       "  <tbody>\n",
       "    <tr>\n",
       "      <th>0</th>\n",
       "      <td>Subject: re : energy derivatives conference - ...</td>\n",
       "      <td>0</td>\n",
       "    </tr>\n",
       "    <tr>\n",
       "      <th>1</th>\n",
       "      <td>Subject: financial maths course , part 2  vinc...</td>\n",
       "      <td>0</td>\n",
       "    </tr>\n",
       "    <tr>\n",
       "      <th>2</th>\n",
       "      <td>Subject: re : bullet points  please respond to...</td>\n",
       "      <td>0</td>\n",
       "    </tr>\n",
       "    <tr>\n",
       "      <th>3</th>\n",
       "      <td>Subject: re : enron default swaps  darrell ,  ...</td>\n",
       "      <td>0</td>\n",
       "    </tr>\n",
       "    <tr>\n",
       "      <th>4</th>\n",
       "      <td>Subject: re : power question  steve ,  elena c...</td>\n",
       "      <td>0</td>\n",
       "    </tr>\n",
       "  </tbody>\n",
       "</table>\n",
       "</div>"
      ],
      "text/plain": [
       "                                                text  spam\n",
       "0  Subject: re : energy derivatives conference - ...     0\n",
       "1  Subject: financial maths course , part 2  vinc...     0\n",
       "2  Subject: re : bullet points  please respond to...     0\n",
       "3  Subject: re : enron default swaps  darrell ,  ...     0\n",
       "4  Subject: re : power question  steve ,  elena c...     0"
      ]
     },
     "execution_count": 37,
     "metadata": {},
     "output_type": "execute_result"
    }
   ],
   "source": [
    "test = pd.read_csv(\"/workspace/new_src/dataset/test.csv\")\n",
    "test.head()"
   ]
  },
  {
   "cell_type": "code",
   "execution_count": 38,
   "id": "54e41105",
   "metadata": {},
   "outputs": [],
   "source": [
    "preprocessed_tokens = preprocess_sentence_list(test['text'])"
   ]
  },
  {
   "cell_type": "code",
   "execution_count": 39,
   "id": "6416041b",
   "metadata": {},
   "outputs": [],
   "source": [
    "test[\"text\"] = preprocessed_tokens"
   ]
  },
  {
   "cell_type": "code",
   "execution_count": 40,
   "id": "6335dcc5",
   "metadata": {},
   "outputs": [],
   "source": [
    "list_precitions = determine_spam(test['text'], num_unique_words, spam_words_dict, ham_words_dict, \n",
    "                                 P_spam, P_ham)"
   ]
  },
  {
   "cell_type": "markdown",
   "id": "c0e100db",
   "metadata": {},
   "source": [
    "# 4. Perfromance Metrics"
   ]
  },
  {
   "cell_type": "markdown",
   "id": "8b57bb26",
   "metadata": {},
   "source": [
    "### 4.1 Accuracy metric: (TP+TN)/(TP+FP+TN+FN)"
   ]
  },
  {
   "cell_type": "code",
   "execution_count": 41,
   "id": "c0c8192d",
   "metadata": {},
   "outputs": [
    {
     "data": {
      "text/plain": [
       "True     1453\n",
       "False     266\n",
       "Name: spam, dtype: int64"
      ]
     },
     "execution_count": 41,
     "metadata": {},
     "output_type": "execute_result"
    }
   ],
   "source": [
    "results = test['spam'] == list_precitions # get list where TP+TN is True and FP+FN is False\n",
    "results.value_counts()"
   ]
  },
  {
   "cell_type": "code",
   "execution_count": 42,
   "id": "75b92b3f",
   "metadata": {},
   "outputs": [
    {
     "data": {
      "text/plain": [
       "0.8452588714368819"
      ]
     },
     "execution_count": 42,
     "metadata": {},
     "output_type": "execute_result"
    }
   ],
   "source": [
    "accuracy = results.value_counts()[1]/(results.value_counts()[0]+results.value_counts()[1])\n",
    "accuracy"
   ]
  },
  {
   "cell_type": "code",
   "execution_count": 43,
   "id": "23ff9ab1-7557-4c2f-91aa-6e44e7055217",
   "metadata": {},
   "outputs": [
    {
     "data": {
      "text/plain": [
       "0.8452588714368819"
      ]
     },
     "execution_count": 43,
     "metadata": {},
     "output_type": "execute_result"
    }
   ],
   "source": [
    "acc = metrics.accuracy_score(test['spam'], list_precitions)\n",
    "acc"
   ]
  },
  {
   "cell_type": "markdown",
   "id": "262f15ba",
   "metadata": {},
   "source": [
    "### 4.2 Precision metric: TP/(TP+FP)"
   ]
  },
  {
   "cell_type": "code",
   "execution_count": 44,
   "id": "abaeba2f",
   "metadata": {},
   "outputs": [
    {
     "data": {
      "text/plain": [
       "False    1544\n",
       "True      175\n",
       "Name: spam, dtype: int64"
      ]
     },
     "execution_count": 44,
     "metadata": {},
     "output_type": "execute_result"
    }
   ],
   "source": [
    "results2 = test['spam'] & list_precitions\n",
    "results2.value_counts()"
   ]
  },
  {
   "cell_type": "code",
   "execution_count": 45,
   "id": "24e594c7-fed9-4d1a-9351-345effbd8bba",
   "metadata": {},
   "outputs": [
    {
     "data": {
      "text/plain": [
       "1.0"
      ]
     },
     "execution_count": 45,
     "metadata": {},
     "output_type": "execute_result"
    }
   ],
   "source": [
    "precision = results2.value_counts()[1]/(np.sum(list_precitions))\n",
    "precision"
   ]
  },
  {
   "cell_type": "code",
   "execution_count": 46,
   "id": "b15c7887-1cd1-4dde-9765-7de23454aaff",
   "metadata": {},
   "outputs": [
    {
     "data": {
      "text/plain": [
       "1.0"
      ]
     },
     "execution_count": 46,
     "metadata": {},
     "output_type": "execute_result"
    }
   ],
   "source": [
    "prec = metrics.precision_score(test['spam'], list_precitions)\n",
    "prec"
   ]
  },
  {
   "cell_type": "markdown",
   "id": "cc185a94",
   "metadata": {},
   "source": [
    "### 4.3 Recall metric: TP/(TP+FN)"
   ]
  },
  {
   "cell_type": "code",
   "execution_count": 47,
   "id": "5c8455e6-74c7-4350-a6c3-72eb556caa89",
   "metadata": {},
   "outputs": [
    {
     "data": {
      "text/plain": [
       "266"
      ]
     },
     "execution_count": 47,
     "metadata": {},
     "output_type": "execute_result"
    }
   ],
   "source": [
    "FN = [1 for i in range(len(test['spam'])) if test['spam'][i] == 1 and list_precitions[i] == 0]\n",
    "np.sum(FN)"
   ]
  },
  {
   "cell_type": "code",
   "execution_count": 48,
   "id": "0b101ca1",
   "metadata": {},
   "outputs": [
    {
     "data": {
      "text/plain": [
       "0.3968253968253968"
      ]
     },
     "execution_count": 48,
     "metadata": {},
     "output_type": "execute_result"
    }
   ],
   "source": [
    "recall = results2.value_counts()[1]/(results2.value_counts()[1]+np.sum(FN))\n",
    "recall"
   ]
  },
  {
   "cell_type": "code",
   "execution_count": 49,
   "id": "18a962ff-6923-42c9-9dae-2b463a3e278a",
   "metadata": {},
   "outputs": [
    {
     "data": {
      "text/plain": [
       "0.3968253968253968"
      ]
     },
     "execution_count": 49,
     "metadata": {},
     "output_type": "execute_result"
    }
   ],
   "source": [
    "rec = metrics.recall_score(test['spam'], list_precitions)\n",
    "rec"
   ]
  },
  {
   "cell_type": "markdown",
   "id": "ef9d50c8",
   "metadata": {},
   "source": [
    "### 4.4 F1 metric: 2*(Precission*Recall)/(Precession+Recall)"
   ]
  },
  {
   "cell_type": "code",
   "execution_count": 50,
   "id": "9ee28376",
   "metadata": {},
   "outputs": [
    {
     "data": {
      "text/plain": [
       "0.5681818181818182"
      ]
     },
     "execution_count": 50,
     "metadata": {},
     "output_type": "execute_result"
    }
   ],
   "source": [
    "f1 = 2*(precision*recall)/(precision+recall)\n",
    "f1"
   ]
  },
  {
   "cell_type": "code",
   "execution_count": 51,
   "id": "e546d75a-c76c-41e7-bfab-ac964c2734a1",
   "metadata": {},
   "outputs": [
    {
     "data": {
      "text/plain": [
       "0.5681818181818182"
      ]
     },
     "execution_count": 51,
     "metadata": {},
     "output_type": "execute_result"
    }
   ],
   "source": [
    "f1_sk = metrics.f1_score(test['spam'],list_precitions)\n",
    "f1_sk"
   ]
  }
 ],
 "metadata": {
  "kernelspec": {
   "display_name": "Python 3",
   "language": "python",
   "name": "python3"
  },
  "language_info": {
   "codemirror_mode": {
    "name": "ipython",
    "version": 3
   },
   "file_extension": ".py",
   "mimetype": "text/x-python",
   "name": "python",
   "nbconvert_exporter": "python",
   "pygments_lexer": "ipython3",
   "version": "3.9.5"
  }
 },
 "nbformat": 4,
 "nbformat_minor": 5
}
